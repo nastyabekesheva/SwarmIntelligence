{
 "cells": [
  {
   "cell_type": "code",
   "execution_count": 1,
   "metadata": {},
   "outputs": [],
   "source": [
    "import sys\n",
    "sys.path.append('../')  \n",
    "from GO import GeneticOptimizer\n",
    "from GWO import GreyWolfOptimizer\n",
    "from Visualizer import Visualizer\n",
    "from TestFunctions import *\n",
    "import numpy as np\n"
   ]
  },
  {
   "cell_type": "markdown",
   "metadata": {},
   "source": [
    "# Genetic Optimizer"
   ]
  },
  {
   "cell_type": "code",
   "execution_count": 2,
   "metadata": {},
   "outputs": [
    {
     "name": "stdout",
     "output_type": "stream",
     "text": [
      "([1.1494621194781416], -32.95428405521445)\n"
     ]
    }
   ],
   "source": [
    "GO = GeneticOptimizer(harmonic, [[0, 3]], epochs=50, population_size=20, dimensions=1)\n",
    "print(GO.fit())\n",
    "data = GO._meta\n",
    "best_fitness = np.array([min(i) for i in data[\"fitness\"]])\n",
    "v = Visualizer(data=data, func=harmonic, interval=[0, 3], fps=15, filename=\"HARMONIC_GO\", best=best_fitness)\n",
    "v.animate_growth()\n",
    "v.fitness_trend()\n",
    "v.distances()"
   ]
  },
  {
   "cell_type": "code",
   "execution_count": 2,
   "metadata": {},
   "outputs": [
    {
     "name": "stdout",
     "output_type": "stream",
     "text": [
      "([2.951476310368505], -1470115.6891036548)\n"
     ]
    }
   ],
   "source": [
    "GO = GeneticOptimizer(parametric, [[0, 3]], epochs=50, population_size=20, dimensions=1)\n",
    "print(GO.fit())\n",
    "data = GO._meta\n",
    "best_fitness = np.array([min(i) for i in data[\"fitness\"]])\n",
    "v = Visualizer(data=data, func=parametric, interval=[0, 3], fps=15, filename=\"PARAMETRIC_GO\", best=best_fitness)\n",
    "v.animate_growth()\n",
    "v.fitness_trend()\n",
    "v.distances()"
   ]
  },
  {
   "cell_type": "code",
   "execution_count": 4,
   "metadata": {},
   "outputs": [
    {
     "name": "stdout",
     "output_type": "stream",
     "text": [
      "([3.1418326085298105, 3.0807965209429966], -0.9944698672133057)\n"
     ]
    }
   ],
   "source": [
    "GO = GeneticOptimizer(easom, [[-100, 100], [-100, 100]], epochs=100, population_size=20, dimensions=2)\n",
    "print(GO.fit())\n",
    "data = GO._meta\n",
    "best_fitness = np.array([min(i) for i in data[\"fitness\"]])\n",
    "v = Visualizer(data=data, func=easom, interval=[[0, 2 * np.pi], [0, 2 * np.pi]], fps=20, filename=\"EASOM_GO\", dimensions=2, best=best_fitness)\n",
    "v.animate_growth()\n",
    "v.fitness_trend()\n",
    "v.distances()"
   ]
  },
  {
   "cell_type": "code",
   "execution_count": 5,
   "metadata": {},
   "outputs": [
    {
     "name": "stdout",
     "output_type": "stream",
     "text": [
      "([-7.629510948348184e-05, 0.014267185473411104], 0.04576559559364668)\n"
     ]
    }
   ],
   "source": [
    "GO = GeneticOptimizer(ackley, [[-5, 5], [-5, 5]], epochs=100, population_size=20, dimensions=2)\n",
    "print(GO.fit())\n",
    "data = GO._meta\n",
    "best_fitness = np.array([min(i) for i in data[\"fitness\"]])\n",
    "v = Visualizer(data=data, func=ackley, interval=[[-5, 5], [-5, 5]], fps=20, filename=\"ACKLEY_GO\", dimensions=2, best=best_fitness)\n",
    "v.animate_growth()\n",
    "v.fitness_trend()\n",
    "v.distances()"
   ]
  },
  {
   "cell_type": "code",
   "execution_count": 23,
   "metadata": {},
   "outputs": [
    {
     "name": "stdout",
     "output_type": "stream",
     "text": [
      "([1.3401998931868455, 1.3487449454489955], -2.0626019956335515)\n"
     ]
    }
   ],
   "source": [
    "GO = GeneticOptimizer(cross_in_tray, [[-10, 10], [-10, 10]], epochs=100, population_size=20, dimensions=2)\n",
    "print(GO.fit())\n",
    "data = GO._meta\n",
    "best_fitness = np.array([min(i) for i in data[\"fitness\"]])\n",
    "v = Visualizer(data=data, func=cross_in_tray, interval=[[-5, 5], [-5, 5]], fps=20, filename=\"CROSS_IN_TRAY_GO\", dimensions=2, best=best_fitness)\n",
    "v.animate_growth()\n",
    "v.fitness_trend()\n",
    "v.distances()"
   ]
  },
  {
   "cell_type": "code",
   "execution_count": 36,
   "metadata": {},
   "outputs": [
    {
     "name": "stdout",
     "output_type": "stream",
     "text": [
      "([482.5620508125429, 433.13942168307017], -956.8413773559901)\n"
     ]
    }
   ],
   "source": [
    "GO = GeneticOptimizer(eggholder, [[-512, 512], [-512, 512]], epochs=100, population_size=30, dimensions=2)\n",
    "print(GO.fit())\n",
    "data = GO._meta\n",
    "best_fitness = np.array([min(i) for i in data[\"fitness\"]])\n",
    "v = Visualizer(data=data, func=eggholder, interval=[[-512, 512], [-512, 512]], fps=20, filename=\"EGGHOLDER_GO\", dimensions=2, best=best_fitness)\n",
    "v.animate_growth()\n",
    "v.fitness_trend()\n",
    "v.distances()"
   ]
  },
  {
   "cell_type": "code",
   "execution_count": 37,
   "metadata": {},
   "outputs": [
    {
     "name": "stdout",
     "output_type": "stream",
     "text": [
      "([8.127718013275349, -9.690547035934996], -19.148642794506788)\n"
     ]
    }
   ],
   "source": [
    "GO = GeneticOptimizer(holder, [[-10, 10], [-10, 10]], epochs=100, population_size=20, dimensions=2)\n",
    "print(GO.fit())\n",
    "data = GO._meta\n",
    "best_fitness = np.array([min(i) for i in data[\"fitness\"]])\n",
    "v = Visualizer(data=data, func=holder, interval=[[-10, 10], [-10, 10]], fps=20, filename=\"HOLDER_GO\", dimensions=2, best=best_fitness)\n",
    "v.animate_growth()\n",
    "v.fitness_trend()\n",
    "v.distances()"
   ]
  },
  {
   "cell_type": "code",
   "execution_count": 3,
   "metadata": {},
   "outputs": [
    {
     "name": "stdout",
     "output_type": "stream",
     "text": [
      "([0.10528725108720494, -0.10528725108720494], 2.217007318755515e-05)\n"
     ]
    }
   ],
   "source": [
    "GO = GeneticOptimizer(schaffer1, [[-100, 100], [-100, 100]], epochs=500, population_size=30, dimensions=2)\n",
    "print(GO.fit())\n",
    "data = GO._meta\n",
    "best_fitness = np.array([min(i) for i in data[\"fitness\"]])\n",
    "v = Visualizer(data=data, func=schaffer1, interval=[[-100, 100], [-100, 100]], fps=20, filename=\"SCHAFFER1_GO\", dimensions=2, best=best_fitness)\n",
    "v.animate_growth()\n",
    "v.fitness_trend()\n",
    "v.distances()"
   ]
  },
  {
   "cell_type": "code",
   "execution_count": 2,
   "metadata": {},
   "outputs": [
    {
     "name": "stdout",
     "output_type": "stream",
     "text": [
      "([0.21515220874341878, 1.2710765239948074], 0.0016598913666932003)\n"
     ]
    }
   ],
   "source": [
    "GO = GeneticOptimizer(schaffer2, [[-100, 100], [-100, 100]], epochs=200, population_size=20, dimensions=2)\n",
    "print(GO.fit())\n",
    "data = GO._meta\n",
    "best_fitness = np.array([min(i) for i in data[\"fitness\"]])\n",
    "v = Visualizer(data=data, func=schaffer2, interval=[[-100, 100], [-100, 100]], fps=20, filename=\"SCHAFFER2_GO\", dimensions=2, best=best_fitness)\n",
    "v.animate_growth()\n",
    "v.fitness_trend()\n",
    "v.distances()"
   ]
  },
  {
   "cell_type": "code",
   "execution_count": 5,
   "metadata": {},
   "outputs": [
    {
     "name": "stdout",
     "output_type": "stream",
     "text": [
      "([0.005390707255664928, 7.812619211122751e-05], 0.005765882018769375)\n"
     ]
    }
   ],
   "source": [
    "GO = GeneticOptimizer(rastrigin2d, [[-5.12, 5.12], [-5.12, 5.12]], epochs=100, population_size=20, dimensions=2)\n",
    "print(GO.fit())\n",
    "data = GO._meta\n",
    "best_fitness = np.array([min(i) for i in data[\"fitness\"]])\n",
    "v = Visualizer(data=data, func=rastrigin2d, interval=[[-5.12, 5.12], [-5.12, 5.12]], fps=20, filename=\"RASTRIGIN_GO\", dimensions=2, best=best_fitness)\n",
    "v.animate_growth()\n",
    "v.fitness_trend()\n",
    "v.distances()"
   ]
  },
  {
   "cell_type": "code",
   "execution_count": 7,
   "metadata": {},
   "outputs": [
    {
     "name": "stdout",
     "output_type": "stream",
     "text": [
      "([7.812619211122751e-05, 7.812619211122751e-05, -7.812619211122751e-05], 8.15086235483875e-06)\n"
     ]
    }
   ],
   "source": [
    "GO = GeneticOptimizer(rastrigin3d, [[-5.12, 5.12], [-5.12, 5.12], [-5.12, 5.12]], epochs=250, population_size=20, dimensions=3)\n",
    "print(GO.fit())\n",
    "data = GO._meta\n",
    "best_fitness = np.array([min(i) for i in data[\"fitness\"]])\n",
    "v = Visualizer(data=data, func=rastrigin3d, interval=[[-5.12, 5.12], [-5.12, 5.12], [-5.12, 5.12]], fps=20, filename=\"RASTRIGIN3_GO\", dimensions=3, best=best_fitness)\n",
    "v.fitness_trend()\n",
    "v.distances()"
   ]
  },
  {
   "cell_type": "markdown",
   "metadata": {},
   "source": [
    "# Grey Wolf Optimizer"
   ]
  },
  {
   "cell_type": "code",
   "execution_count": 4,
   "metadata": {},
   "outputs": [
    {
     "name": "stdout",
     "output_type": "stream",
     "text": [
      "([1.1481284131779566], -32.905961859252166)\n"
     ]
    }
   ],
   "source": [
    "GWO = GreyWolfOptimizer(harmonic, [[0, 3]], epochs=50, population_size=20, dimensions=1)\n",
    "print(GWO.fit())\n",
    "data = GWO._meta\n",
    "best_fitness =  np.array([harmonic(*args) for args in GWO._best])\n",
    "v = Visualizer(data=data, func=harmonic, interval=[0, 3], fps=15, filename=\"HARMONIC_GWO\", best=best_fitness)\n",
    "v.animate_growth()\n",
    "v.fitness_trend()\n",
    "v.distances()"
   ]
  },
  {
   "cell_type": "code",
   "execution_count": 6,
   "metadata": {},
   "outputs": [
    {
     "name": "stdout",
     "output_type": "stream",
     "text": [
      "([2.9429072810679084], -1215321.2790694132)\n"
     ]
    }
   ],
   "source": [
    "GWO = GreyWolfOptimizer(parametric, [[0, 3]], epochs=50, population_size=20, dimensions=1)\n",
    "print(GWO.fit())\n",
    "data = GWO._meta\n",
    "best_fitness =  np.array([harmonic(*args) for args in GWO._best])\n",
    "v = Visualizer(data=data, func=parametric, interval=[0, 3], fps=15, filename=\"PARAMETRIC_GWO\", best=best_fitness)\n",
    "v.animate_growth()\n",
    "v.fitness_trend()\n",
    "v.distances()"
   ]
  },
  {
   "cell_type": "code",
   "execution_count": 12,
   "metadata": {},
   "outputs": [
    {
     "name": "stdout",
     "output_type": "stream",
     "text": [
      "([3.1395911675460466, 3.140611097350756], -0.9999925459278166)\n"
     ]
    }
   ],
   "source": [
    "GWO = GreyWolfOptimizer(easom, [[-100, 100], [-100, 100]], step = 0.8, epochs=100, population_size=20, dimensions=2)\n",
    "print(GWO.fit())\n",
    "data = GWO._meta\n",
    "best_fitness =  np.array([easom(*args) for args in GWO._best])\n",
    "v = Visualizer(data=data, func=easom, interval=[[0, 2 * np.pi], [0, 2 * np.pi]], fps=20, filename=\"EASOM_GWO\", dimensions=2, best=GWO._best)\n",
    "v.animate_growth()\n",
    "v.distances()\n",
    "v.fitness_trend()"
   ]
  },
  {
   "cell_type": "code",
   "execution_count": 13,
   "metadata": {},
   "outputs": [
    {
     "name": "stdout",
     "output_type": "stream",
     "text": [
      "([-0.0018062483964494495, 0.0017120980190734464], 0.0072041363161936545)\n"
     ]
    }
   ],
   "source": [
    "GWO = GreyWolfOptimizer(ackley, [[-5, 5], [-5, 5]], epochs=100, population_size=20, dimensions=2)\n",
    "print(GWO.fit())\n",
    "data = GWO._meta\n",
    "best_fitness =  np.array([ackley(*args) for args in GWO._best])\n",
    "v = Visualizer(data=data, func=ackley, interval=[[-5, 5], [-5, 5]], fps=20, filename=\"ACKLEY_GWO\", dimensions=2, best=best_fitness)\n",
    "v.animate_growth()\n",
    "v.fitness_trend()\n",
    "v.distances()"
   ]
  },
  {
   "cell_type": "code",
   "execution_count": 14,
   "metadata": {},
   "outputs": [
    {
     "name": "stdout",
     "output_type": "stream",
     "text": [
      "([1.2822159508185103, -1.3073135638047486], -2.061918530458744)\n"
     ]
    }
   ],
   "source": [
    "GWO = GreyWolfOptimizer(cross_in_tray, [[-10, 10], [-10, 10]], epochs=100, population_size=20, dimensions=2)\n",
    "print(GWO.fit())\n",
    "data = GWO._meta\n",
    "best_fitness =  np.array([cross_in_tray(*args) for args in GWO._best])\n",
    "v = Visualizer(data=data, func=cross_in_tray, interval=[[-5, 5], [-5, 5]], fps=20, filename=\"CROSS_IN_TRAY_GWO\", dimensions=2, best=best_fitness)\n",
    "v.animate_growth()\n",
    "v.fitness_trend()\n",
    "v.distances()"
   ]
  },
  {
   "cell_type": "code",
   "execution_count": 84,
   "metadata": {},
   "outputs": [
    {
     "name": "stdout",
     "output_type": "stream",
     "text": [
      "([-463.7492364771063, 383.5090460182985], -893.0455018391899)\n"
     ]
    }
   ],
   "source": [
    "GWO = GreyWolfOptimizer(eggholder, [[-512, 512], [-512, 512]], step=7, epochs=300, population_size=30, dimensions=2)\n",
    "print(GWO.fit())\n",
    "data = GWO._meta\n",
    "best_fitness =  np.array([eggholder(*args) for args in GWO._best])\n",
    "v = Visualizer(data=data, func=eggholder, interval=[[-512, 512], [-512, 512]], fps=20, filename=\"EGGHOLDER_GWO\", dimensions=2, best=best_fitness)\n",
    "v.animate_growth()\n",
    "v.fitness_trend()\n",
    "v.distances()"
   ]
  },
  {
   "cell_type": "code",
   "execution_count": 57,
   "metadata": {},
   "outputs": [
    {
     "name": "stdout",
     "output_type": "stream",
     "text": [
      "([8.105384199924176, 9.377026586887771], -18.39796420458915)\n"
     ]
    }
   ],
   "source": [
    "GWO = GreyWolfOptimizer(holder, [[-10, 10], [-10, 10]], step=0.5, epochs=100, population_size=20, dimensions=2)\n",
    "print(GWO.fit())\n",
    "data = GWO._meta\n",
    "best_fitness =  np.array([holder(*args) for args in GWO._best])\n",
    "v = Visualizer(data=data, func=holder, interval=[[-10, 10], [-10, 10]], fps=20, filename=\"HOLDER_GWO\", dimensions=2, best=best_fitness)\n",
    "v.animate_growth()\n",
    "v.fitness_trend()\n",
    "v.distances()"
   ]
  },
  {
   "cell_type": "code",
   "execution_count": 36,
   "metadata": {},
   "outputs": [
    {
     "name": "stdout",
     "output_type": "stream",
     "text": [
      "([0.26453695733660254, 0.2991682766718662], 0.0005403762528403133)\n"
     ]
    }
   ],
   "source": [
    "GWO = GreyWolfOptimizer(schaffer1, [[-100, 100], [-100, 100]], step=50, epochs=300, population_size=30, dimensions=2)\n",
    "print(GWO.fit())\n",
    "data = GWO._meta\n",
    "best_fitness =  np.array([schaffer1(*args) for args in GWO._best])\n",
    "v = Visualizer(data=data, func=schaffer1, interval=[[-100, 100], [-100, 100]], fps=20, filename=\"SCHAFFER1_GWO\", dimensions=2, best=best_fitness)\n",
    "v.animate_growth()\n",
    "v.fitness_trend()\n",
    "v.distances()"
   ]
  },
  {
   "cell_type": "code",
   "execution_count": 87,
   "metadata": {},
   "outputs": [
    {
     "name": "stdout",
     "output_type": "stream",
     "text": [
      "([0.25481509741593006, -1.2787603023170622], 0.0016960809489836581)\n"
     ]
    }
   ],
   "source": [
    "GWO = GreyWolfOptimizer(schaffer2, [[-100, 100], [-100, 100]], step=0.5, epochs=300, population_size=20, dimensions=2)\n",
    "print(GWO.fit())\n",
    "data = GWO._meta\n",
    "best_fitness =  np.array([schaffer2(*args) for args in GWO._best])\n",
    "v = Visualizer(data=data, func=schaffer2, interval=[[-100, 100], [-100, 100]], fps=20, filename=\"SCHAFFER2_GWO\", dimensions=2, best=best_fitness)\n",
    "v.animate_growth()\n",
    "v.fitness_trend()\n",
    "v.distances()"
   ]
  },
  {
   "cell_type": "code",
   "execution_count": 53,
   "metadata": {},
   "outputs": [
    {
     "name": "stdout",
     "output_type": "stream",
     "text": [
      "([0.0047545949724107145, 0.00034775283313163985], 0.004508546026645632)\n"
     ]
    }
   ],
   "source": [
    "GWO = GreyWolfOptimizer(rastrigin2d, [[-5.12, 5.12], [-5.12, 5.12]], epochs=100, population_size=20, dimensions=2)\n",
    "print(GWO.fit())\n",
    "data = GWO._meta\n",
    "best_fitness =  np.array([schaffer2(*args) for args in GWO._best])\n",
    "v = Visualizer(data=data, func=rastrigin2d, interval=[[-5.12, 5.12], [-5.12, 5.12]], fps=20, filename=\"RASTRIGIN_GWO\", dimensions=2, best=best_fitness)\n",
    "v.animate_growth()\n",
    "v.fitness_trend()\n",
    "v.distances()"
   ]
  },
  {
   "cell_type": "code",
   "execution_count": 16,
   "metadata": {},
   "outputs": [
    {
     "name": "stdout",
     "output_type": "stream",
     "text": [
      "([0.00034410760027387896, 0.0003386470018023578, -0.009189797851086909], 0.03767279048515526)\n"
     ]
    }
   ],
   "source": [
    "GWO = GreyWolfOptimizer(rastrigin3d, [[-5.12, 5.12], [-5.12, 5.12], [-5.12, 5.12]], step=0.02, epochs=250, population_size=20, dimensions=3)\n",
    "print(GWO.fit())\n",
    "data = GWO._meta\n",
    "best_fitness = np.array([min(i) for i in data[\"fitness\"]])\n",
    "v = Visualizer(data=data, func=rastrigin3d, interval=[[-5.12, 5.12], [-5.12, 5.12], [-5.12, 5.12]], fps=20, filename=\"RASTRIGIN3_GO\", dimensions=3, best=best_fitness)\n",
    "v.fitness_trend()\n",
    "v.distances()"
   ]
  }
 ],
 "metadata": {
  "kernelspec": {
   "display_name": "Python 3",
   "language": "python",
   "name": "python3"
  },
  "language_info": {
   "codemirror_mode": {
    "name": "ipython",
    "version": 3
   },
   "file_extension": ".py",
   "mimetype": "text/x-python",
   "name": "python",
   "nbconvert_exporter": "python",
   "pygments_lexer": "ipython3",
   "version": "3.11.4"
  }
 },
 "nbformat": 4,
 "nbformat_minor": 2
}
