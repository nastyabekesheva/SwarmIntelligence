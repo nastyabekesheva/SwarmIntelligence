{
 "cells": [
  {
   "cell_type": "code",
   "execution_count": 1,
   "metadata": {},
   "outputs": [],
   "source": [
    "import sys\n",
    "sys.path.append('../')  \n",
    "from GO import GeneticOptimizer\n",
    "from GWO import GreyWolfOptimizer\n",
    "from Visualizer import Visualizer\n",
    "from TestFunctions import *\n",
    "import matplotlib.pyplot as plt\n",
    "import numpy as np\n",
    "from IPython.display import Image\n"
   ]
  },
  {
   "cell_type": "markdown",
   "metadata": {},
   "source": [
    "# Genetic Optimizer"
   ]
  },
  {
   "cell_type": "code",
   "execution_count": 2,
   "metadata": {},
   "outputs": [
    {
     "name": "stdout",
     "output_type": "stream",
     "text": [
      "([1.1494621194781416], -32.95428405521445)\n"
     ]
    }
   ],
   "source": [
    "GO = GeneticOptimizer(harmonic, [[0, 3]], epochs=50, population_size=20, dimensions=1)\n",
    "print(GO.fit())\n",
    "data = GO._meta\n",
    "best_fitness = np.array([min(i) for i in data[\"fitness\"]])\n",
    "v = Visualizer(data=data, func=harmonic, interval=[0, 3], fps=15, filename=\"HARMONIC_GO\", best=best_fitness)\n",
    "v.animate_growth()\n",
    "v.fitness_trend()\n",
    "v.distances()"
   ]
  },
  {
   "cell_type": "code",
   "execution_count": 2,
   "metadata": {},
   "outputs": [
    {
     "name": "stdout",
     "output_type": "stream",
     "text": [
      "([2.951476310368505], -1470115.6891036548)\n"
     ]
    }
   ],
   "source": [
    "GO = GeneticOptimizer(parametric, [[0, 3]], epochs=50, population_size=20, dimensions=1)\n",
    "print(GO.fit())\n",
    "data = GO._meta\n",
    "best_fitness = np.array([min(i) for i in data[\"fitness\"]])\n",
    "v = Visualizer(data=data, func=parametric, interval=[0, 3], fps=15, filename=\"PARAMETRIC_GO\", best=best_fitness)\n",
    "v.animate_growth()\n",
    "v.fitness_trend()\n",
    "v.distances()"
   ]
  },
  {
   "cell_type": "code",
   "execution_count": 21,
   "metadata": {},
   "outputs": [
    {
     "name": "stdout",
     "output_type": "stream",
     "text": [
      "([3.120469977874407, 3.1387808041504712], -0.9993191044287337)\n"
     ]
    }
   ],
   "source": [
    "GO = GeneticOptimizer(izum, [[-100, 100], [-100, 100]], epochs=100, population_size=20, dimensions=2)\n",
    "print(GO.fit())\n",
    "data = GO._meta\n",
    "best_fitness = np.array([min(i) for i in data[\"fitness\"]])\n",
    "v = Visualizer(data=data, func=izum, interval=[[0, 2 * np.pi], [0, 2 * np.pi]], fps=20, filename=\"IZUM_GO\", dimensions=2, best=best_fitness)\n",
    "v.animate_growth()\n",
    "v.fitness_trend()\n",
    "v.distances()"
   ]
  },
  {
   "cell_type": "code",
   "execution_count": 24,
   "metadata": {},
   "outputs": [
    {
     "name": "stdout",
     "output_type": "stream",
     "text": [
      "([-0.0002288853284504455, 7.629510948348184e-05], 0.0006839542262788711)\n"
     ]
    }
   ],
   "source": [
    "GO = GeneticOptimizer(erkli, [[-5, 5], [-5, 5]], epochs=100, population_size=20, dimensions=2)\n",
    "print(GO.fit())\n",
    "data = GO._meta\n",
    "best_fitness = np.array([min(i) for i in data[\"fitness\"]])\n",
    "v = Visualizer(data=data, func=erkli, interval=[[-5, 5], [-5, 5]], fps=20, filename=\"ERKLI_GO\", dimensions=2, best=best_fitness)\n",
    "v.animate_growth()\n",
    "v.fitness_trend()\n",
    "v.distances()"
   ]
  },
  {
   "cell_type": "code",
   "execution_count": 23,
   "metadata": {},
   "outputs": [
    {
     "name": "stdout",
     "output_type": "stream",
     "text": [
      "([1.3401998931868455, 1.3487449454489955], -2.0626019956335515)\n"
     ]
    }
   ],
   "source": [
    "GO = GeneticOptimizer(cross_in_tray, [[-10, 10], [-10, 10]], epochs=100, population_size=20, dimensions=2)\n",
    "print(GO.fit())\n",
    "data = GO._meta\n",
    "best_fitness = np.array([min(i) for i in data[\"fitness\"]])\n",
    "v = Visualizer(data=data, func=cross_in_tray, interval=[[-5, 5], [-5, 5]], fps=20, filename=\"CROSS_IN_TRAY_GO\", dimensions=2, best=best_fitness)\n",
    "v.animate_growth()\n",
    "v.fitness_trend()\n",
    "v.distances()"
   ]
  },
  {
   "cell_type": "code",
   "execution_count": 36,
   "metadata": {},
   "outputs": [
    {
     "name": "stdout",
     "output_type": "stream",
     "text": [
      "([482.5620508125429, 433.13942168307017], -956.8413773559901)\n"
     ]
    }
   ],
   "source": [
    "GO = GeneticOptimizer(eggholder, [[-512, 512], [-512, 512]], epochs=100, population_size=30, dimensions=2)\n",
    "print(GO.fit())\n",
    "data = GO._meta\n",
    "best_fitness = np.array([min(i) for i in data[\"fitness\"]])\n",
    "v = Visualizer(data=data, func=eggholder, interval=[[-512, 512], [-512, 512]], fps=20, filename=\"EGGHOLDER_GO\", dimensions=2, best=best_fitness)\n",
    "v.animate_growth()\n",
    "v.fitness_trend()\n",
    "v.distances()"
   ]
  },
  {
   "cell_type": "code",
   "execution_count": 37,
   "metadata": {},
   "outputs": [
    {
     "name": "stdout",
     "output_type": "stream",
     "text": [
      "([8.127718013275349, -9.690547035934996], -19.148642794506788)\n"
     ]
    }
   ],
   "source": [
    "GO = GeneticOptimizer(holder, [[-10, 10], [-10, 10]], epochs=100, population_size=20, dimensions=2)\n",
    "print(GO.fit())\n",
    "data = GO._meta\n",
    "best_fitness = np.array([min(i) for i in data[\"fitness\"]])\n",
    "v = Visualizer(data=data, func=holder, interval=[[-10, 10], [-10, 10]], fps=20, filename=\"HOLDER_GO\", dimensions=2, best=best_fitness)\n",
    "v.animate_growth()\n",
    "v.fitness_trend()\n",
    "v.distances()"
   ]
  },
  {
   "cell_type": "code",
   "execution_count": 3,
   "metadata": {},
   "outputs": [
    {
     "name": "stdout",
     "output_type": "stream",
     "text": [
      "([0.10528725108720494, -0.10528725108720494], 2.217007318755515e-05)\n"
     ]
    }
   ],
   "source": [
    "GO = GeneticOptimizer(schaffer1, [[-100, 100], [-100, 100]], epochs=500, population_size=30, dimensions=2)\n",
    "print(GO.fit())\n",
    "data = GO._meta\n",
    "best_fitness = np.array([min(i) for i in data[\"fitness\"]])\n",
    "v = Visualizer(data=data, func=schaffer1, interval=[[-100, 100], [-100, 100]], fps=20, filename=\"SCHAFFER1_GO\", dimensions=2, best=best_fitness)\n",
    "v.animate_growth()\n",
    "v.fitness_trend()\n",
    "v.distances()"
   ]
  },
  {
   "cell_type": "code",
   "execution_count": 2,
   "metadata": {},
   "outputs": [
    {
     "name": "stdout",
     "output_type": "stream",
     "text": [
      "([0.21515220874341878, 1.2710765239948074], 0.0016598913666932003)\n"
     ]
    }
   ],
   "source": [
    "GO = GeneticOptimizer(schaffer2, [[-100, 100], [-100, 100]], epochs=200, population_size=20, dimensions=2)\n",
    "print(GO.fit())\n",
    "data = GO._meta\n",
    "best_fitness = np.array([min(i) for i in data[\"fitness\"]])\n",
    "v = Visualizer(data=data, func=schaffer2, interval=[[-100, 100], [-100, 100]], fps=20, filename=\"SCHAFFER2_GO\", dimensions=2, best=best_fitness)\n",
    "v.animate_growth()\n",
    "v.fitness_trend()\n",
    "v.distances()"
   ]
  },
  {
   "cell_type": "markdown",
   "metadata": {},
   "source": [
    "# Grey Wolf Optimizer"
   ]
  },
  {
   "cell_type": "code",
   "execution_count": 4,
   "metadata": {},
   "outputs": [
    {
     "name": "stdout",
     "output_type": "stream",
     "text": [
      "([1.1481284131779566], -32.905961859252166)\n"
     ]
    }
   ],
   "source": [
    "GWO = GreyWolfOptimizer(harmonic, [[0, 3]], epochs=50, population_size=20, dimensions=1)\n",
    "print(GWO.fit())\n",
    "data = GWO._meta\n",
    "best_fitness =  np.array([harmonic(*args) for args in GWO._best])\n",
    "v = Visualizer(data=data, func=harmonic, interval=[0, 3], fps=15, filename=\"HARMONIC_GWO\", best=best_fitness)\n",
    "v.animate_growth()\n",
    "v.fitness_trend()\n",
    "v.distances()"
   ]
  },
  {
   "cell_type": "code",
   "execution_count": 5,
   "metadata": {},
   "outputs": [
    {
     "name": "stdout",
     "output_type": "stream",
     "text": [
      "([2.9590753032730603], -1501724.1744847882)\n"
     ]
    }
   ],
   "source": [
    "GO = GeneticOptimizer(parametric, [[0, 3]], epochs=50, population_size=20, dimensions=1)\n",
    "print(GO.fit())\n",
    "data = GO._meta\n",
    "best_fitness =  np.array([harmonic(*args) for args in GWO._best])\n",
    "v = Visualizer(data=data, func=parametric, interval=[0, 3], fps=15, filename=\"PARAMETRIC_GWO\", best=best_fitness)\n",
    "v.animate_growth()\n",
    "v.fitness_trend()\n",
    "v.distances()"
   ]
  },
  {
   "cell_type": "code",
   "execution_count": 7,
   "metadata": {},
   "outputs": [
    {
     "name": "stdout",
     "output_type": "stream",
     "text": [
      "([3.106240039293688, 3.1591061870841886], -0.997667788998207)\n"
     ]
    }
   ],
   "source": [
    "GWO = GreyWolfOptimizer(izum, [[-100, 100], [-100, 100]], step = 0.8, epochs=100, population_size=20, dimensions=2)\n",
    "print(GWO.fit())\n",
    "data = GWO._meta\n",
    "best_fitness =  np.array([izum(*args) for args in GWO._best])\n",
    "v = Visualizer(data=data, func=izum, interval=[[0, 2 * np.pi], [0, 2 * np.pi]], fps=20, filename=\"IZUM_GWO\", dimensions=2, best=GWO._best)\n",
    "v.animate_growth()\n",
    "v.distances()\n",
    "v.fitness_trend()"
   ]
  },
  {
   "cell_type": "code",
   "execution_count": 8,
   "metadata": {},
   "outputs": [
    {
     "name": "stdout",
     "output_type": "stream",
     "text": [
      "([7.629510948348184e-05, -0.0005340657663843729], 0.0015336522838467204)\n"
     ]
    }
   ],
   "source": [
    "GO = GeneticOptimizer(erkli, [[-5, 5], [-5, 5]], epochs=100, population_size=20, dimensions=2)\n",
    "print(GO.fit())\n",
    "data = GO._meta\n",
    "best_fitness =  np.array([erkli(*args) for args in GWO._best])\n",
    "v = Visualizer(data=data, func=erkli, interval=[[-5, 5], [-5, 5]], fps=20, filename=\"ERKLI_GWO\", dimensions=2, best=best_fitness)\n",
    "v.animate_growth()\n",
    "v.fitness_trend()\n",
    "v.distances()"
   ]
  },
  {
   "cell_type": "code",
   "execution_count": 9,
   "metadata": {},
   "outputs": [
    {
     "name": "stdout",
     "output_type": "stream",
     "text": [
      "([1.249866483558403, 1.3575951781490794], -2.061409929568624)\n"
     ]
    }
   ],
   "source": [
    "GO = GeneticOptimizer(cross_in_tray, [[-10, 10], [-10, 10]], epochs=100, population_size=20, dimensions=2)\n",
    "print(GO.fit())\n",
    "data = GO._meta\n",
    "best_fitness =  np.array([cross_in_tray(*args) for args in GWO._best])\n",
    "v = Visualizer(data=data, func=cross_in_tray, interval=[[-5, 5], [-5, 5]], fps=20, filename=\"CROSS_IN_TRAY_GWO\", dimensions=2, best=best_fitness)\n",
    "v.animate_growth()\n",
    "v.fitness_trend()\n",
    "v.distances()"
   ]
  },
  {
   "cell_type": "code",
   "execution_count": 10,
   "metadata": {},
   "outputs": [
    {
     "name": "stdout",
     "output_type": "stream",
     "text": [
      "([509.46871137560083, 403.263965819791], -948.0910504884598)\n"
     ]
    }
   ],
   "source": [
    "GO = GeneticOptimizer(eggholder, [[-512, 512], [-512, 512]], epochs=100, population_size=30, dimensions=2)\n",
    "print(GO.fit())\n",
    "data = GO._meta\n",
    "best_fitness =  np.array([eggholder(*args) for args in GWO._best])\n",
    "v = Visualizer(data=data, func=eggholder, interval=[[-512, 512], [-512, 512]], fps=20, filename=\"EGGHOLDER_GWO\", dimensions=2, best=best_fitness)\n",
    "v.animate_growth()\n",
    "v.fitness_trend()\n",
    "v.distances()"
   ]
  },
  {
   "cell_type": "code",
   "execution_count": 11,
   "metadata": {},
   "outputs": [
    {
     "name": "stdout",
     "output_type": "stream",
     "text": [
      "([-8.057221332112611, 9.663385976958875], -19.208440949083887)\n"
     ]
    }
   ],
   "source": [
    "GO = GeneticOptimizer(holder, [[-10, 10], [-10, 10]], epochs=100, population_size=20, dimensions=2)\n",
    "print(GO.fit())\n",
    "data = GO._meta\n",
    "best_fitness =  np.array([holder(*args) for args in GWO._best])\n",
    "v = Visualizer(data=data, func=holder, interval=[[-10, 10], [-10, 10]], fps=20, filename=\"HOLDER_GWO\", dimensions=2, best=best_fitness)\n",
    "v.animate_growth()\n",
    "v.fitness_trend()\n",
    "v.distances()"
   ]
  },
  {
   "cell_type": "code",
   "execution_count": 12,
   "metadata": {},
   "outputs": [
    {
     "name": "stdout",
     "output_type": "stream",
     "text": [
      "([-0.0015259021896696368, 0.0015259021896696368], 4.656754926113393e-09)\n"
     ]
    }
   ],
   "source": [
    "GO = GeneticOptimizer(schaffer1, [[-100, 100], [-100, 100]], epochs=500, population_size=30, dimensions=2)\n",
    "print(GO.fit())\n",
    "data = GO._meta\n",
    "best_fitness =  np.array([schaffer1(*args) for args in GWO._best])\n",
    "v = Visualizer(data=data, func=schaffer1, interval=[[-100, 100], [-100, 100]], fps=20, filename=\"SCHAFFER1_GWO\", dimensions=2, best=best_fitness)\n",
    "v.animate_growth()\n",
    "v.fitness_trend()\n",
    "v.distances()"
   ]
  },
  {
   "cell_type": "code",
   "execution_count": 19,
   "metadata": {},
   "outputs": [
    {
     "name": "stdout",
     "output_type": "stream",
     "text": [
      "([0.007629510948348184, -3.315785458152135], 0.010817202290201777)\n"
     ]
    }
   ],
   "source": [
    "GO = GeneticOptimizer(schaffer2, [[-100, 100], [-100, 100]], epochs=300, population_size=20, dimensions=2)\n",
    "print(GO.fit())\n",
    "data = GO._meta\n",
    "best_fitness =  np.array([schaffer2(*args) for args in GWO._best])\n",
    "v = Visualizer(data=data, func=schaffer2, interval=[[-100, 100], [-100, 100]], fps=20, filename=\"SCHAFFER2_GWO\", dimensions=2, best=best_fitness)\n",
    "v.animate_growth()\n",
    "v.fitness_trend()\n",
    "v.distances()"
   ]
  }
 ],
 "metadata": {
  "kernelspec": {
   "display_name": "Python 3",
   "language": "python",
   "name": "python3"
  },
  "language_info": {
   "codemirror_mode": {
    "name": "ipython",
    "version": 3
   },
   "file_extension": ".py",
   "mimetype": "text/x-python",
   "name": "python",
   "nbconvert_exporter": "python",
   "pygments_lexer": "ipython3",
   "version": "3.11.4"
  }
 },
 "nbformat": 4,
 "nbformat_minor": 2
}
