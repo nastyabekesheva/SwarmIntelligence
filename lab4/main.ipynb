{
 "cells": [
  {
   "cell_type": "code",
   "execution_count": 1,
   "metadata": {},
   "outputs": [],
   "source": [
    "import sys\n",
    "sys.path.append('../')  \n",
    "from ACO import AntColonyOptimization\n",
    "from TSPVisualizer import Visualizer\n",
    "from DATA import CircleDotsGenerator\n",
    "from TestFunctions import *\n",
    "import numpy as np\n",
    "import numpy as np\n",
    "import matplotlib.pyplot as plt\n",
    "import tsplib95"
   ]
  },
  {
   "cell_type": "code",
   "execution_count": 2,
   "metadata": {},
   "outputs": [],
   "source": [
    "def read_tsp_file(filename):\n",
    "    problem = tsplib95.load_problem(filename)\n",
    "    points = [(problem.node_coords[i][0], problem.node_coords[i][1]) for i in range(1, len(problem.node_coords) + 1)]\n",
    "    \n",
    "    return points"
   ]
  },
  {
   "cell_type": "code",
   "execution_count": 7,
   "metadata": {},
   "outputs": [],
   "source": [
    "circle = CircleDotsGenerator(n=30)\n",
    "points = np.array(circle.generate_dots())\n",
    "ACO = AntColonyOptimization(points, n_ants=10, epochs=100, alpha=1, beta=1, evaporation_rate=0.5, Q=1)\n",
    "best_path, best_path_points = ACO.fit()\n",
    "V = Visualizer(points, ACO._meta, filename=\"30DOTS\")\n",
    "V.__1d_animate_growth__()"
   ]
  },
  {
   "cell_type": "code",
   "execution_count": 6,
   "metadata": {},
   "outputs": [],
   "source": [
    "circle = CircleDotsGenerator(n=50)\n",
    "points = np.array(circle.generate_dots())\n",
    "ACO = AntColonyOptimization(points, n_ants=10, epochs=100, alpha=1, beta=1, evaporation_rate=0.5, Q=1)\n",
    "best_path, best_path_points = ACO.fit()\n",
    "V = Visualizer(points, ACO._meta, filename=\"50DOTS\")\n",
    "V.__1d_animate_growth__()"
   ]
  },
  {
   "cell_type": "code",
   "execution_count": 8,
   "metadata": {},
   "outputs": [],
   "source": [
    "circle = CircleDotsGenerator(n=100)\n",
    "points = np.array(circle.generate_dots())\n",
    "ACO = AntColonyOptimization(points, n_ants=10, epochs=100, alpha=1, beta=1, evaporation_rate=0.5, Q=1)\n",
    "best_path, best_path_points = ACO.fit()\n",
    "V = Visualizer(points, ACO._meta, filename=\"100DOTS\")\n",
    "V.__1d_animate_growth__()"
   ]
  },
  {
   "cell_type": "code",
   "execution_count": 9,
   "metadata": {},
   "outputs": [],
   "source": [
    "circle = CircleDotsGenerator(n=200)\n",
    "points = np.array(circle.generate_dots())\n",
    "ACO = AntColonyOptimization(points, n_ants=10, epochs=100, alpha=1, beta=1, evaporation_rate=0.5, Q=1)\n",
    "best_path, best_path_points = ACO.fit()\n",
    "V = Visualizer(points, ACO._meta, filename=\"200DOTS\")\n",
    "V.__1d_animate_growth__()"
   ]
  },
  {
   "cell_type": "code",
   "execution_count": 5,
   "metadata": {},
   "outputs": [
    {
     "name": "stderr",
     "output_type": "stream",
     "text": [
      "/var/folders/kl/jfwvxx3s68qd0pvk126hj5w40000gn/T/ipykernel_45595/2162443067.py:2: DeprecationWarning: Call to deprecated function (or staticmethod) load_problem. (Will be removed in newer versions. Use `tsplib95.load` instead.) -- Deprecated since version 7.0.0.\n",
      "  problem = tsplib95.load_problem(filename)\n"
     ]
    }
   ],
   "source": [
    "filename = \"xqf131.tsp\"\n",
    "points_p1 = read_tsp_file(filename)\n",
    "points = np.array(points_p1)\n",
    "ACO = AntColonyOptimization(points, n_ants=10, epochs=500, alpha=1, beta=1, evaporation_rate=0.5, Q=1)\n",
    "best_path, best_path_points = ACO.fit()\n",
    "V = Visualizer(points, ACO._meta, filename=\"P1.5\")\n",
    "V.__1d_animate_growth__()"
   ]
  },
  {
   "cell_type": "code",
   "execution_count": 4,
   "metadata": {},
   "outputs": [
    {
     "name": "stderr",
     "output_type": "stream",
     "text": [
      "/var/folders/kl/jfwvxx3s68qd0pvk126hj5w40000gn/T/ipykernel_45595/2162443067.py:2: DeprecationWarning: Call to deprecated function (or staticmethod) load_problem. (Will be removed in newer versions. Use `tsplib95.load` instead.) -- Deprecated since version 7.0.0.\n",
      "  problem = tsplib95.load_problem(filename)\n"
     ]
    }
   ],
   "source": [
    "filename = \"xqg237.tsp\"\n",
    "points_p1 = read_tsp_file(filename)\n",
    "points = np.array(points_p1)\n",
    "ACO = AntColonyOptimization(points, n_ants=10, epochs=200, alpha=1, beta=1, evaporation_rate=0.5, Q=1)\n",
    "best_path, best_path_points = ACO.fit()\n",
    "V = Visualizer(points, ACO._meta, filename=\"P2.2\")\n",
    "V.__1d_animate_growth__()"
   ]
  }
 ],
 "metadata": {
  "kernelspec": {
   "display_name": "Python 3",
   "language": "python",
   "name": "python3"
  },
  "language_info": {
   "codemirror_mode": {
    "name": "ipython",
    "version": 3
   },
   "file_extension": ".py",
   "mimetype": "text/x-python",
   "name": "python",
   "nbconvert_exporter": "python",
   "pygments_lexer": "ipython3",
   "version": "3.11.4"
  }
 },
 "nbformat": 4,
 "nbformat_minor": 2
}
