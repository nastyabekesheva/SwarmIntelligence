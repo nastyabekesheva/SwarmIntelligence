{
 "cells": [
  {
   "cell_type": "code",
   "execution_count": 1,
   "metadata": {},
   "outputs": [],
   "source": [
    "import sys\n",
    "sys.path.append('../')  \n",
    "from PSO import ParticleSwarmOptimizer\n",
    "from BO import BeeOptimizer\n",
    "from FFO import FireFliesOptimizer\n",
    "from Visualizer import Visualizer\n",
    "from TestFunctions import *\n",
    "import numpy as np"
   ]
  },
  {
   "cell_type": "code",
   "execution_count": 8,
   "metadata": {},
   "outputs": [
    {
     "name": "stdout",
     "output_type": "stream",
     "text": [
      "[0.9929667506291884, 1.0032553848787724]\n"
     ]
    }
   ],
   "source": [
    "PSO = ParticleSwarmOptimizer(rosenbrock1, [-1.5, -0.5], [1.5, 2.5], [1, 1], [10, 10], epochs=500, population_size=20, dimensions=2, alpha1=0.5, alpha2=0.5)\n",
    "print(PSO.fit())\n",
    "data = PSO._meta\n",
    "best_fitness = np.array([min(i) for i in data[\"fitness\"]])\n",
    "v = Visualizer(data=data, func=rosenbrock1, interval=[[-1.5, 1.5], [-0.5, 2.5]], dimensions=2, fps=15, filename=\"ROSENBROCK_PSO\", best=data[\"best_fitness\"])\n",
    "#v.animate_growth()\n",
    "v.fitness_trend()\n",
    "v.distances()"
   ]
  },
  {
   "cell_type": "code",
   "execution_count": 6,
   "metadata": {},
   "outputs": [
    {
     "name": "stdout",
     "output_type": "stream",
     "text": [
      "[0.9510866075376556, 0.9019167220794637]\n"
     ]
    }
   ],
   "source": [
    "PSO = ParticleSwarmOptimizer(rosenbrock2, [-1.5, -1.5], [1.5, 1.5], [1, 1], [10, 10], epochs=500, population_size=20, dimensions=2, alpha1=0.5, alpha2=0.5,)\n",
    "print(PSO.fit())\n",
    "data = PSO._meta\n",
    "v = Visualizer(data=data, func=rosenbrock2, interval=[[-1.5, 1.5], [-1.5, 1.5]], dimensions=2, fps=15, filename=\"ROSENBROCK2_PSO\", best=data[\"best_fitness\"])\n",
    "#v.animate_growth()\n",
    "v.fitness_trend()\n",
    "v.distances()"
   ]
  },
  {
   "cell_type": "code",
   "execution_count": 74,
   "metadata": {},
   "outputs": [
    {
     "name": "stdout",
     "output_type": "stream",
     "text": [
      "[0.9613917410348782, -0.01008674944366228]\n"
     ]
    }
   ],
   "source": [
    "PSO = ParticleSwarmOptimizer(rastrigin2d, [-5.12, -5.12], [5.12, 5.12], [1, 1], [5, 5], epochs=200, population_size=30, dimensions=2)\n",
    "print(PSO.fit())\n",
    "data = PSO._meta\n",
    "v = Visualizer(data=data, func=rastrigin2d, interval=[[-5.12, 5.12], [-5.12, 5.12]], dimensions=2, fps=5, filename=\"RASTRIGIN_PSO\", best=data[\"best_fitness\"])\n",
    "v.animate_growth()\n",
    "v.fitness_trend()\n",
    "v.distances()"
   ]
  },
  {
   "cell_type": "code",
   "execution_count": 31,
   "metadata": {},
   "outputs": [
    {
     "name": "stdout",
     "output_type": "stream",
     "text": [
      "52.691089252840136\n"
     ]
    }
   ],
   "source": [
    "PSO = ParticleSwarmOptimizer(rastrigin10d, [-5.12] * 10, [5.12] * 10, [1] * 10, [5] * 10, epochs=100, population_size=20, dimensions=10)\n",
    "x = PSO.fit()\n",
    "print(rastrigin10d(*x))\n",
    "\n",
    "data = PSO._meta\n",
    "v = Visualizer(data=data, func=rastrigin2d, interval=[[-5.12, 5.12] * 10], dimensions=10, fps=5, filename=\"RASTRIGIN10_PSO\", best=data[\"best_fitness\"])\n",
    "#v.animate_growth()\n",
    "v.fitness_trend()\n",
    "v.distances()"
   ]
  },
  {
   "cell_type": "code",
   "execution_count": 9,
   "metadata": {},
   "outputs": [
    {
     "name": "stdout",
     "output_type": "stream",
     "text": [
      "[0.0023455043897709442, -2.9815360466366156, 0.15352333083318953, 0.0006784155405519243, -0.8763426217418797, -0.06727940476531116, -2.905017556752732, 0.023186437808855764, -0.9758525444718655, 0.2169763133099211]\n"
     ]
    }
   ],
   "source": [
    "PSO = ParticleSwarmOptimizer(rastrigin10d, [-5.12] * 10, [5.12] * 10, [1] * 10, [5] * 10, epochs=500, population_size=100, dimensions=10)\n",
    "print(PSO.fit())\n",
    "data = PSO._meta\n",
    "v = Visualizer(data=data, func=rastrigin2d, interval=[[-5.12, 5.12] * 10], dimensions=10, fps=5, filename=\"RASTRIGIN10_PSO\", best=data[\"best_fitness\"])\n",
    "#v.animate_growth()\n",
    "v.fitness_trend()\n",
    "v.distances()"
   ]
  },
  {
   "cell_type": "code",
   "execution_count": 15,
   "metadata": {},
   "outputs": [
    {
     "name": "stdout",
     "output_type": "stream",
     "text": [
      "[-3.2152245763422798, -1.9217996993489628]\n"
     ]
    }
   ],
   "source": [
    "PSO = ParticleSwarmOptimizer(mishra_berd, [-10, -6.5], [0, 0], [1, 1], [5, 5], epochs=500, population_size=20, dimensions=2)\n",
    "print(PSO.fit())\n",
    "data = PSO._meta\n",
    "v = Visualizer(data=data, func=mishra_berd, interval=[[-10, 0], [-6.5, 0]], dimensions=2, fps=5, filename=\"MISHRABERD_PSO\", best=data[\"best_fitness\"])\n",
    "#v.animate_growth()\n",
    "v.fitness_trend()\n",
    "v.distances()"
   ]
  },
  {
   "cell_type": "code",
   "execution_count": 28,
   "metadata": {},
   "outputs": [
    {
     "name": "stdout",
     "output_type": "stream",
     "text": [
      "[0.5213071373358991, -1.0470032637880933]\n"
     ]
    }
   ],
   "source": [
    "PSO = ParticleSwarmOptimizer(simionesk, [-1.25, -1.25], [1.25, 1.25], [1, 1], [5, 5], epochs=1000, population_size=20, dimensions=2)\n",
    "print(PSO.fit())\n",
    "data = PSO._meta\n",
    "v = Visualizer(data=data, func=mishra_berd, interval=[[-1.25, 1.25], [-1.25, 1.25]], dimensions=2, fps=5, filename=\"SIMIONESK_PSO\", best=data[\"best_fitness\"])\n",
    "#v.animate_growth()\n",
    "v.fitness_trend()\n",
    "v.distances()"
   ]
  },
  {
   "cell_type": "code",
   "execution_count": 4,
   "metadata": {},
   "outputs": [
    {
     "name": "stdout",
     "output_type": "stream",
     "text": [
      "[-0.03531707287696806, -0.009723519049149587]\n"
     ]
    }
   ],
   "source": [
    "BO = BeeOptimizer(rosenbrock1, 8, 2, 2, 8, [-1.5, -0.5], [1.5, 2.5], epochs=500, population_size=20, dimensions=2)\n",
    "print(BO.fit())\n",
    "data = BO._meta\n",
    "best_fitness = np.array([min(i) for i in data[\"fitness\"]])\n",
    "v = Visualizer(data=data, func=rosenbrock1, interval=[[-1.5, 1.5], [-0.5, 2.5]], dimensions=2, fps=15, filename=\"ROSENBROCK1_BO\", best=data[\"best_fitness\"])\n",
    "#v.animate_growth()\n",
    "v.fitness_trend()\n",
    "v.distances()\n"
   ]
  },
  {
   "cell_type": "code",
   "execution_count": 5,
   "metadata": {},
   "outputs": [
    {
     "name": "stdout",
     "output_type": "stream",
     "text": [
      "[0.9470805884248241, 0.9097843470177591]\n"
     ]
    }
   ],
   "source": [
    "BO = BeeOptimizer(rosenbrock2, 8, 2, 2, 8, [-1.5, -1.5], [1.5, 1.5], epochs=500, population_size=20, dimensions=2)\n",
    "print(BO.fit())\n",
    "data = BO._meta\n",
    "best_fitness = np.array([min(i) for i in data[\"fitness\"]])\n",
    "v = Visualizer(data=data, func=rosenbrock2, interval=[[-1.5, 1.5], [-1.5, 1.5]], dimensions=2, fps=15, filename=\"ROSENBROCK2_BO\", best=data[\"best_fitness\"])\n",
    "#v.animate_growth()\n",
    "v.fitness_trend()\n",
    "v.distances()"
   ]
  },
  {
   "cell_type": "code",
   "execution_count": 7,
   "metadata": {},
   "outputs": [
    {
     "name": "stdout",
     "output_type": "stream",
     "text": [
      "[-0.03315551969227837, 0.014731356443968835]\n"
     ]
    }
   ],
   "source": [
    "BO = BeeOptimizer(rastrigin2d, 8, 2, 2, 8, [-5.12, -5.12], [5.12, 5.12], epochs=300, population_size=20, dimensions=2)\n",
    "print(BO.fit())\n",
    "data = BO._meta\n",
    "v = Visualizer(data=data, func=rastrigin2d, interval=[[-5.12, 5.12], [-5.12, 5.12]], dimensions=2, fps=15, filename=\"RASTRIGIN2D_BO\", best=data[\"best_fitness\"])\n",
    "v.animate_growth()\n",
    "v.fitness_trend()\n",
    "v.distances()"
   ]
  },
  {
   "cell_type": "code",
   "execution_count": 21,
   "metadata": {},
   "outputs": [
    {
     "name": "stdout",
     "output_type": "stream",
     "text": [
      "[-0.5206031343125278, 1.0345744078473742]\n"
     ]
    }
   ],
   "source": [
    "BO = BeeOptimizer(simionesk, 8, 2, 2, 8, [-1.25, -1.25], [1.25, 1.25], epochs=500, population_size=20, dimensions=2)\n",
    "print(BO.fit())\n",
    "data = BO._meta\n",
    "v = Visualizer(data=data, func=simionesk, interval=[[-1.25, 1.25], [-1.25, 1.25]], dimensions=2, fps=15, filename=\"SIMIONESK_BO\", best=data[\"best_fitness\"])\n",
    "#v.animate_growth()\n",
    "v.fitness_trend()\n",
    "v.distances()"
   ]
  },
  {
   "cell_type": "code",
   "execution_count": 15,
   "metadata": {},
   "outputs": [
    {
     "name": "stdout",
     "output_type": "stream",
     "text": [
      "[-0.3530563684562848, -0.3530563684562848]\n"
     ]
    }
   ],
   "source": [
    "BO = BeeOptimizer(mishra_berd, 8, 2, 2, 8, [-10, -6.5], [0, 0], epochs=500, population_size=20, dimensions=2)\n",
    "print(BO.fit())\n",
    "data = BO._meta\n",
    "best_fitness = np.array([min(i) for i in data[\"fitness\"]])\n",
    "v = Visualizer(data=data, func=mishra_berd, interval=[[-10, 0], [-6.5, 0]], dimensions=2, fps=15, filename=\"MISHRABERD_BO\", best=data[\"best_fitness\"])\n",
    "#v.animate_growth()\n",
    "v.fitness_trend()\n",
    "v.distances()"
   ]
  },
  {
   "cell_type": "code",
   "execution_count": 7,
   "metadata": {},
   "outputs": [
    {
     "name": "stdout",
     "output_type": "stream",
     "text": [
      "[0.9553442583434835, 1.023495724428182]\n"
     ]
    }
   ],
   "source": [
    "FFO = FireFliesOptimizer(rosenbrock1, [-1.5, -0.5], [1.5, 2.5], epochs=500, population_size=20, dimensions=2)\n",
    "print(FFO.fit())\n",
    "data = FFO._meta\n",
    "v = Visualizer(data=data, func=rosenbrock1, interval=[[-1.5, 1.5], [-0.5, 2.5]], dimensions=2, fps=15, filename=\"ROSENBROCK1_FFO\", best=data[\"best_fitness\"])\n",
    "#v.animate_growth()\n",
    "v.fitness_trend()\n",
    "v.distances()"
   ]
  },
  {
   "cell_type": "code",
   "execution_count": 16,
   "metadata": {},
   "outputs": [
    {
     "name": "stdout",
     "output_type": "stream",
     "text": [
      "[0.9245500672120884, 0.8306839530156505]\n"
     ]
    }
   ],
   "source": [
    "FFO = FireFliesOptimizer(rosenbrock2,  [-1.5, -1.5], [1.5, 1.5], epochs=500, population_size=20, dimensions=2)\n",
    "print(FFO.fit())\n",
    "data = FFO._meta\n",
    "v = Visualizer(data=data, func=rosenbrock2, interval=[[-1.5, 1.5], [-1.5, 1.5]], dimensions=2, fps=15, filename=\"ROSENBROCK2_FFO\", best=data[\"best_fitness\"])\n",
    "#v.animate_growth()\n",
    "v.fitness_trend()\n",
    "v.distances()"
   ]
  },
  {
   "cell_type": "code",
   "execution_count": 6,
   "metadata": {},
   "outputs": [
    {
     "name": "stdout",
     "output_type": "stream",
     "text": [
      "[0.7845791086505216, 1.0442300933382733]\n"
     ]
    }
   ],
   "source": [
    "FFO = FireFliesOptimizer(rastrigin2d, [-5.12, -5.12], [5.12, 5.12], epochs=300, population_size=20, dimensions=2)\n",
    "print(FFO.fit())\n",
    "data = FFO._meta\n",
    "v = Visualizer(data=data, func=rastrigin2d, interval=[[-5.12, 5.12], [-5.12, 5.12]], dimensions=2, fps=15, filename=\"RASTRIGIN2D_FFO\", best=data[\"best_fitness\"])\n",
    "v.animate_growth()\n",
    "v.fitness_trend()\n",
    "v.distances()"
   ]
  },
  {
   "cell_type": "code",
   "execution_count": 8,
   "metadata": {},
   "outputs": [
    {
     "name": "stdout",
     "output_type": "stream",
     "text": [
      "[0.4352344857233439, 0.6782652705081094, 14.071456955976247]\n",
      "[2.064911430382101]\n"
     ]
    }
   ],
   "source": [
    "PSO = ParticleSwarmOptimizer(spring, [0.005, 0.25, 2], [2, 1.3, 15], [0.1, 0.1, 0.5], [0.5, 0.5, 2], epochs=500, population_size=20, dimensions=3, alpha1=0.5, alpha2=0.5)\n",
    "print(PSO.fit())\n",
    "data = PSO._meta\n",
    "print([data[\"best_fitness\"][len(data[\"best_fitness\"])-1]])\n",
    "v = Visualizer(data=data, func=spring, interval=[[0.005, 2], [0.25, 1.3], [2, 15]], dimensions=3, fps=15, filename=\"SPRING_PSO\", best=data[\"best_fitness\"])\n",
    "#v.animate_growth()\n",
    "v.fitness_trend()\n",
    "v.distances()"
   ]
  },
  {
   "cell_type": "code",
   "execution_count": 3,
   "metadata": {},
   "outputs": [
    {
     "name": "stdout",
     "output_type": "stream",
     "text": [
      "[1303.9783309917327, 350.87502435546014, 8521.384232047782, 3658.230537911128, 3908.1759571431685, 1454.2928061190803, 2505.1481464969092]\n",
      "[9223372036854775807]\n"
     ]
    }
   ],
   "source": [
    "PSO = ParticleSwarmOptimizer(reduc, [2.6, 0.7, 17.0, 7.3, 7.8, 2.9, 5.0], [3.6, 0.8, 28.0, 8.3, 8.3, 3.9, 5.5], [1, 1, 1, 1, 1, 1, 1], [5, 5, 5, 5, 5, 5, 5], epochs=500, population_size=20, dimensions=7, alpha1=0.5, alpha2=0.5)\n",
    "print(PSO.fit())\n",
    "data = PSO._meta\n",
    "print([data[\"best_fitness\"][len(data[\"best_fitness\"])-1]])\n",
    "v = Visualizer(data=data, func=reduc, interval=[[2.6, 3.6], [0.7, 0.8],  [17, 28], [7.3, 8.3], [7.8, 8.3],  [2.9, 3.9],  [5.0, 5.5]], dimensions=7, fps=15, filename=\"SPRING_PSO\", best=data[\"best_fitness\"])\n",
    "#v.animate_growth()\n",
    "v.fitness_trend()\n",
    "v.distances()"
   ]
  },
  {
   "cell_type": "code",
   "execution_count": 75,
   "metadata": {},
   "outputs": [
    {
     "name": "stdout",
     "output_type": "stream",
     "text": [
      "<generator object <genexpr> at 0x1572aaf40>\n"
     ]
    }
   ],
   "source": [
    "[[2.6, 0.7, 17.0, 7.3, 7.8, 2.9, 5.0], [3.6, 0.8, 28.0, 8.3, 8.3, 3.9, 5.5]]"
   ]
  }
 ],
 "metadata": {
  "kernelspec": {
   "display_name": "Python 3",
   "language": "python",
   "name": "python3"
  },
  "language_info": {
   "codemirror_mode": {
    "name": "ipython",
    "version": 3
   },
   "file_extension": ".py",
   "mimetype": "text/x-python",
   "name": "python",
   "nbconvert_exporter": "python",
   "pygments_lexer": "ipython3",
   "version": "3.11.4"
  }
 },
 "nbformat": 4,
 "nbformat_minor": 2
}
